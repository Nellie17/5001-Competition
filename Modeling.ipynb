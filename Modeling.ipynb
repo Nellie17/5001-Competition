{
 "cells": [
  {
   "cell_type": "code",
   "execution_count": 1,
   "id": "baa33df4",
   "metadata": {},
   "outputs": [],
   "source": [
    "import numpy as np\n",
    "import pandas as pd\n",
    "import matplotlib.pyplot as plt\n",
    "import seaborn as sns\n",
    "import xgboost\n",
    "import warnings\n",
    "warnings.filterwarnings(\"ignore\")\n",
    "from sklearn.metrics import confusion_matrix,accuracy_score,roc_curve,classification_report\n",
    "from sklearn.preprocessing import StandardScaler\n",
    "from sklearn.linear_model import LogisticRegression\n",
    "from sklearn.neighbors import KNeighborsClassifier\n",
    "from sklearn.svm import SVC\n",
    "from sklearn.tree import DecisionTreeClassifier\n",
    "from sklearn.ensemble import RandomForestClassifier\n",
    "from sklearn.ensemble import GradientBoostingClassifier\n",
    "from sklearn.ensemble import AdaBoostClassifier\n",
    "from collections import Counter\n",
    "from xgboost import XGBClassifier\n",
    "from sklearn.model_selection import GridSearchCV\n",
    "from mlxtend.classifier import StackingCVClassifier"
   ]
  },
  {
   "cell_type": "code",
   "execution_count": 2,
   "id": "edc5b96f",
   "metadata": {},
   "outputs": [
    {
     "data": {
      "text/html": [
       "<div>\n",
       "<style scoped>\n",
       "    .dataframe tbody tr th:only-of-type {\n",
       "        vertical-align: middle;\n",
       "    }\n",
       "\n",
       "    .dataframe tbody tr th {\n",
       "        vertical-align: top;\n",
       "    }\n",
       "\n",
       "    .dataframe thead th {\n",
       "        text-align: right;\n",
       "    }\n",
       "</style>\n",
       "<table border=\"1\" class=\"dataframe\">\n",
       "  <thead>\n",
       "    <tr style=\"text-align: right;\">\n",
       "      <th></th>\n",
       "      <th>id</th>\n",
       "      <th>MO HLADR+ MFI (cells/ul)</th>\n",
       "      <th>Neu CD64+MFI (cells/ul)</th>\n",
       "      <th>CD3+T (cells/ul)</th>\n",
       "      <th>CD8+T (cells/ul)</th>\n",
       "      <th>CD4+T (cells/ul)</th>\n",
       "      <th>NK (cells/ul)</th>\n",
       "      <th>CD19+ (cells/ul)</th>\n",
       "      <th>CD45+ (cells/ul)</th>\n",
       "      <th>Age</th>\n",
       "      <th>Sex 0M1F</th>\n",
       "      <th>Mono CD64+MFI (cells/ul)</th>\n",
       "      <th>label</th>\n",
       "    </tr>\n",
       "  </thead>\n",
       "  <tbody>\n",
       "    <tr>\n",
       "      <th>0</th>\n",
       "      <td>0</td>\n",
       "      <td>3556.0</td>\n",
       "      <td>2489.0</td>\n",
       "      <td>265.19</td>\n",
       "      <td>77.53</td>\n",
       "      <td>176.55</td>\n",
       "      <td>0.00</td>\n",
       "      <td>4.20</td>\n",
       "      <td>307.91</td>\n",
       "      <td>52</td>\n",
       "      <td>0</td>\n",
       "      <td>7515.0</td>\n",
       "      <td>1</td>\n",
       "    </tr>\n",
       "    <tr>\n",
       "      <th>1</th>\n",
       "      <td>1</td>\n",
       "      <td>1906.0</td>\n",
       "      <td>134.0</td>\n",
       "      <td>1442.61</td>\n",
       "      <td>551.90</td>\n",
       "      <td>876.07</td>\n",
       "      <td>112.10</td>\n",
       "      <td>168.15</td>\n",
       "      <td>1735.48</td>\n",
       "      <td>20</td>\n",
       "      <td>1</td>\n",
       "      <td>1756.0</td>\n",
       "      <td>0</td>\n",
       "    </tr>\n",
       "    <tr>\n",
       "      <th>2</th>\n",
       "      <td>2</td>\n",
       "      <td>1586.0</td>\n",
       "      <td>71.0</td>\n",
       "      <td>1332.74</td>\n",
       "      <td>684.20</td>\n",
       "      <td>655.26</td>\n",
       "      <td>244.95</td>\n",
       "      <td>216.52</td>\n",
       "      <td>1820.04</td>\n",
       "      <td>28</td>\n",
       "      <td>1</td>\n",
       "      <td>1311.0</td>\n",
       "      <td>0</td>\n",
       "    </tr>\n",
       "    <tr>\n",
       "      <th>3</th>\n",
       "      <td>3</td>\n",
       "      <td>683.0</td>\n",
       "      <td>94.0</td>\n",
       "      <td>419.23</td>\n",
       "      <td>255.80</td>\n",
       "      <td>162.17</td>\n",
       "      <td>72.05</td>\n",
       "      <td>44.68</td>\n",
       "      <td>538.22</td>\n",
       "      <td>55</td>\n",
       "      <td>1</td>\n",
       "      <td>1443.0</td>\n",
       "      <td>0</td>\n",
       "    </tr>\n",
       "    <tr>\n",
       "      <th>4</th>\n",
       "      <td>4</td>\n",
       "      <td>1032.0</td>\n",
       "      <td>71.0</td>\n",
       "      <td>1102.72</td>\n",
       "      <td>480.27</td>\n",
       "      <td>625.30</td>\n",
       "      <td>188.78</td>\n",
       "      <td>130.77</td>\n",
       "      <td>1427.97</td>\n",
       "      <td>28</td>\n",
       "      <td>1</td>\n",
       "      <td>1542.0</td>\n",
       "      <td>0</td>\n",
       "    </tr>\n",
       "  </tbody>\n",
       "</table>\n",
       "</div>"
      ],
      "text/plain": [
       "   id  MO HLADR+ MFI (cells/ul)  Neu CD64+MFI (cells/ul)  CD3+T (cells/ul)  \\\n",
       "0   0                    3556.0                   2489.0            265.19   \n",
       "1   1                    1906.0                    134.0           1442.61   \n",
       "2   2                    1586.0                     71.0           1332.74   \n",
       "3   3                     683.0                     94.0            419.23   \n",
       "4   4                    1032.0                     71.0           1102.72   \n",
       "\n",
       "   CD8+T (cells/ul)  CD4+T (cells/ul)  NK (cells/ul)  CD19+ (cells/ul)  \\\n",
       "0             77.53            176.55           0.00              4.20   \n",
       "1            551.90            876.07         112.10            168.15   \n",
       "2            684.20            655.26         244.95            216.52   \n",
       "3            255.80            162.17          72.05             44.68   \n",
       "4            480.27            625.30         188.78            130.77   \n",
       "\n",
       "   CD45+ (cells/ul)  Age  Sex 0M1F  Mono CD64+MFI (cells/ul)  label  \n",
       "0            307.91   52         0                    7515.0      1  \n",
       "1           1735.48   20         1                    1756.0      0  \n",
       "2           1820.04   28         1                    1311.0      0  \n",
       "3            538.22   55         1                    1443.0      0  \n",
       "4           1427.97   28         1                    1542.0      0  "
      ]
     },
     "execution_count": 2,
     "metadata": {},
     "output_type": "execute_result"
    }
   ],
   "source": [
    "data = pd.read_csv('/Users/zhujinghong/Desktop/Project/5001/5001 competition/train.csv')\n",
    "data.head()"
   ]
  },
  {
   "cell_type": "markdown",
   "id": "696146e1",
   "metadata": {},
   "source": [
    "## Preprocessing"
   ]
  },
  {
   "cell_type": "code",
   "execution_count": 3,
   "id": "ad2c4bda",
   "metadata": {},
   "outputs": [],
   "source": [
    "df = data.copy()"
   ]
  },
  {
   "cell_type": "code",
   "execution_count": 4,
   "id": "85edb1b6",
   "metadata": {},
   "outputs": [
    {
     "name": "stdout",
     "output_type": "stream",
     "text": [
      "<class 'pandas.core.frame.DataFrame'>\n",
      "RangeIndex: 87 entries, 0 to 86\n",
      "Data columns (total 13 columns):\n",
      " #   Column                    Non-Null Count  Dtype  \n",
      "---  ------                    --------------  -----  \n",
      " 0   id                        87 non-null     int64  \n",
      " 1   MO HLADR+ MFI (cells/ul)  86 non-null     float64\n",
      " 2   Neu CD64+MFI (cells/ul)   86 non-null     float64\n",
      " 3   CD3+T (cells/ul)          87 non-null     float64\n",
      " 4   CD8+T (cells/ul)          87 non-null     float64\n",
      " 5   CD4+T (cells/ul)          87 non-null     float64\n",
      " 6   NK (cells/ul)             87 non-null     float64\n",
      " 7   CD19+ (cells/ul)          87 non-null     float64\n",
      " 8   CD45+ (cells/ul)          87 non-null     float64\n",
      " 9   Age                       87 non-null     int64  \n",
      " 10  Sex 0M1F                  87 non-null     int64  \n",
      " 11  Mono CD64+MFI (cells/ul)  86 non-null     float64\n",
      " 12  label                     87 non-null     int64  \n",
      "dtypes: float64(9), int64(4)\n",
      "memory usage: 9.0 KB\n"
     ]
    }
   ],
   "source": [
    "df.info()"
   ]
  },
  {
   "cell_type": "code",
   "execution_count": 5,
   "id": "10c079f3",
   "metadata": {},
   "outputs": [],
   "source": [
    "df.drop('id',axis=1, inplace=True)"
   ]
  },
  {
   "cell_type": "code",
   "execution_count": 6,
   "id": "68a5f559",
   "metadata": {},
   "outputs": [
    {
     "data": {
      "text/plain": [
       "(87, 12)"
      ]
     },
     "execution_count": 6,
     "metadata": {},
     "output_type": "execute_result"
    }
   ],
   "source": [
    "df.shape"
   ]
  },
  {
   "cell_type": "code",
   "execution_count": 7,
   "id": "1a8f3404",
   "metadata": {
    "scrolled": true
   },
   "outputs": [
    {
     "data": {
      "text/plain": [
       "1"
      ]
     },
     "execution_count": 7,
     "metadata": {},
     "output_type": "execute_result"
    }
   ],
   "source": [
    "df.duplicated().sum()"
   ]
  },
  {
   "cell_type": "code",
   "execution_count": 8,
   "id": "1fd3ed39",
   "metadata": {},
   "outputs": [
    {
     "data": {
      "text/html": [
       "<div>\n",
       "<style scoped>\n",
       "    .dataframe tbody tr th:only-of-type {\n",
       "        vertical-align: middle;\n",
       "    }\n",
       "\n",
       "    .dataframe tbody tr th {\n",
       "        vertical-align: top;\n",
       "    }\n",
       "\n",
       "    .dataframe thead th {\n",
       "        text-align: right;\n",
       "    }\n",
       "</style>\n",
       "<table border=\"1\" class=\"dataframe\">\n",
       "  <thead>\n",
       "    <tr style=\"text-align: right;\">\n",
       "      <th></th>\n",
       "      <th>MO HLADR+ MFI (cells/ul)</th>\n",
       "      <th>Neu CD64+MFI (cells/ul)</th>\n",
       "      <th>CD3+T (cells/ul)</th>\n",
       "      <th>CD8+T (cells/ul)</th>\n",
       "      <th>CD4+T (cells/ul)</th>\n",
       "      <th>NK (cells/ul)</th>\n",
       "      <th>CD19+ (cells/ul)</th>\n",
       "      <th>CD45+ (cells/ul)</th>\n",
       "      <th>Age</th>\n",
       "      <th>Sex 0M1F</th>\n",
       "      <th>Mono CD64+MFI (cells/ul)</th>\n",
       "      <th>label</th>\n",
       "    </tr>\n",
       "  </thead>\n",
       "  <tbody>\n",
       "    <tr>\n",
       "      <th>76</th>\n",
       "      <td>365.0</td>\n",
       "      <td>248.0</td>\n",
       "      <td>300.75</td>\n",
       "      <td>195.07</td>\n",
       "      <td>106.58</td>\n",
       "      <td>13.42</td>\n",
       "      <td>52.91</td>\n",
       "      <td>371.3</td>\n",
       "      <td>41</td>\n",
       "      <td>1</td>\n",
       "      <td>866.0</td>\n",
       "      <td>1</td>\n",
       "    </tr>\n",
       "  </tbody>\n",
       "</table>\n",
       "</div>"
      ],
      "text/plain": [
       "    MO HLADR+ MFI (cells/ul)  Neu CD64+MFI (cells/ul)  CD3+T (cells/ul)  \\\n",
       "76                     365.0                    248.0            300.75   \n",
       "\n",
       "    CD8+T (cells/ul)  CD4+T (cells/ul)  NK (cells/ul)  CD19+ (cells/ul)  \\\n",
       "76            195.07            106.58          13.42             52.91   \n",
       "\n",
       "    CD45+ (cells/ul)  Age  Sex 0M1F  Mono CD64+MFI (cells/ul)  label  \n",
       "76             371.3   41         1                     866.0      1  "
      ]
     },
     "execution_count": 8,
     "metadata": {},
     "output_type": "execute_result"
    }
   ],
   "source": [
    "df[df.duplicated()]"
   ]
  },
  {
   "cell_type": "code",
   "execution_count": 9,
   "id": "9ab71987",
   "metadata": {},
   "outputs": [
    {
     "data": {
      "text/plain": [
       "(86, 12)"
      ]
     },
     "execution_count": 9,
     "metadata": {},
     "output_type": "execute_result"
    }
   ],
   "source": [
    "df.drop_duplicates(inplace=True) # dropping duplicated rows\n",
    "df.reset_index(drop=True, inplace=True)\n",
    "df.shape"
   ]
  },
  {
   "cell_type": "code",
   "execution_count": 10,
   "id": "b18c6ead",
   "metadata": {
    "scrolled": true
   },
   "outputs": [
    {
     "data": {
      "text/plain": [
       "MO HLADR+ MFI (cells/ul)    1\n",
       "Neu CD64+MFI (cells/ul)     1\n",
       "CD3+T (cells/ul)            0\n",
       "CD8+T (cells/ul)            0\n",
       "CD4+T (cells/ul)            0\n",
       "NK (cells/ul)               0\n",
       "CD19+ (cells/ul)            0\n",
       "CD45+ (cells/ul)            0\n",
       "Age                         0\n",
       "Sex 0M1F                    0\n",
       "Mono CD64+MFI (cells/ul)    1\n",
       "label                       0\n",
       "dtype: int64"
      ]
     },
     "execution_count": 10,
     "metadata": {},
     "output_type": "execute_result"
    }
   ],
   "source": [
    "df.isnull().sum() # Checking null values"
   ]
  },
  {
   "cell_type": "code",
   "execution_count": 11,
   "id": "7fc925bd",
   "metadata": {},
   "outputs": [],
   "source": [
    "df.dropna(inplace=True)"
   ]
  },
  {
   "cell_type": "code",
   "execution_count": 12,
   "id": "53b9194a",
   "metadata": {},
   "outputs": [
    {
     "data": {
      "text/plain": [
       "(85, 12)"
      ]
     },
     "execution_count": 12,
     "metadata": {},
     "output_type": "execute_result"
    }
   ],
   "source": [
    "df.shape"
   ]
  },
  {
   "cell_type": "code",
   "execution_count": 13,
   "id": "281ce1ba",
   "metadata": {},
   "outputs": [
    {
     "data": {
      "text/html": [
       "<div>\n",
       "<style scoped>\n",
       "    .dataframe tbody tr th:only-of-type {\n",
       "        vertical-align: middle;\n",
       "    }\n",
       "\n",
       "    .dataframe tbody tr th {\n",
       "        vertical-align: top;\n",
       "    }\n",
       "\n",
       "    .dataframe thead th {\n",
       "        text-align: right;\n",
       "    }\n",
       "</style>\n",
       "<table border=\"1\" class=\"dataframe\">\n",
       "  <thead>\n",
       "    <tr style=\"text-align: right;\">\n",
       "      <th></th>\n",
       "      <th>MO</th>\n",
       "      <th>Neu</th>\n",
       "      <th>CD3</th>\n",
       "      <th>CD8</th>\n",
       "      <th>CD4</th>\n",
       "      <th>NK</th>\n",
       "      <th>CD19</th>\n",
       "      <th>CD45</th>\n",
       "      <th>Age</th>\n",
       "      <th>Sex</th>\n",
       "      <th>Mono</th>\n",
       "      <th>label</th>\n",
       "    </tr>\n",
       "  </thead>\n",
       "  <tbody>\n",
       "    <tr>\n",
       "      <th>0</th>\n",
       "      <td>3556.0</td>\n",
       "      <td>2489.0</td>\n",
       "      <td>265.19</td>\n",
       "      <td>77.53</td>\n",
       "      <td>176.55</td>\n",
       "      <td>0.00</td>\n",
       "      <td>4.20</td>\n",
       "      <td>307.91</td>\n",
       "      <td>52</td>\n",
       "      <td>0</td>\n",
       "      <td>7515.0</td>\n",
       "      <td>1</td>\n",
       "    </tr>\n",
       "    <tr>\n",
       "      <th>1</th>\n",
       "      <td>1906.0</td>\n",
       "      <td>134.0</td>\n",
       "      <td>1442.61</td>\n",
       "      <td>551.90</td>\n",
       "      <td>876.07</td>\n",
       "      <td>112.10</td>\n",
       "      <td>168.15</td>\n",
       "      <td>1735.48</td>\n",
       "      <td>20</td>\n",
       "      <td>1</td>\n",
       "      <td>1756.0</td>\n",
       "      <td>0</td>\n",
       "    </tr>\n",
       "    <tr>\n",
       "      <th>2</th>\n",
       "      <td>1586.0</td>\n",
       "      <td>71.0</td>\n",
       "      <td>1332.74</td>\n",
       "      <td>684.20</td>\n",
       "      <td>655.26</td>\n",
       "      <td>244.95</td>\n",
       "      <td>216.52</td>\n",
       "      <td>1820.04</td>\n",
       "      <td>28</td>\n",
       "      <td>1</td>\n",
       "      <td>1311.0</td>\n",
       "      <td>0</td>\n",
       "    </tr>\n",
       "    <tr>\n",
       "      <th>3</th>\n",
       "      <td>683.0</td>\n",
       "      <td>94.0</td>\n",
       "      <td>419.23</td>\n",
       "      <td>255.80</td>\n",
       "      <td>162.17</td>\n",
       "      <td>72.05</td>\n",
       "      <td>44.68</td>\n",
       "      <td>538.22</td>\n",
       "      <td>55</td>\n",
       "      <td>1</td>\n",
       "      <td>1443.0</td>\n",
       "      <td>0</td>\n",
       "    </tr>\n",
       "    <tr>\n",
       "      <th>4</th>\n",
       "      <td>1032.0</td>\n",
       "      <td>71.0</td>\n",
       "      <td>1102.72</td>\n",
       "      <td>480.27</td>\n",
       "      <td>625.30</td>\n",
       "      <td>188.78</td>\n",
       "      <td>130.77</td>\n",
       "      <td>1427.97</td>\n",
       "      <td>28</td>\n",
       "      <td>1</td>\n",
       "      <td>1542.0</td>\n",
       "      <td>0</td>\n",
       "    </tr>\n",
       "  </tbody>\n",
       "</table>\n",
       "</div>"
      ],
      "text/plain": [
       "       MO     Neu      CD3     CD8     CD4      NK    CD19     CD45  Age  Sex  \\\n",
       "0  3556.0  2489.0   265.19   77.53  176.55    0.00    4.20   307.91   52    0   \n",
       "1  1906.0   134.0  1442.61  551.90  876.07  112.10  168.15  1735.48   20    1   \n",
       "2  1586.0    71.0  1332.74  684.20  655.26  244.95  216.52  1820.04   28    1   \n",
       "3   683.0    94.0   419.23  255.80  162.17   72.05   44.68   538.22   55    1   \n",
       "4  1032.0    71.0  1102.72  480.27  625.30  188.78  130.77  1427.97   28    1   \n",
       "\n",
       "     Mono  label  \n",
       "0  7515.0      1  \n",
       "1  1756.0      0  \n",
       "2  1311.0      0  \n",
       "3  1443.0      0  \n",
       "4  1542.0      0  "
      ]
     },
     "execution_count": 13,
     "metadata": {},
     "output_type": "execute_result"
    }
   ],
   "source": [
    "df.columns = ['MO','Neu','CD3','CD8','CD4','NK','CD19','CD45',\n",
    "              'Age','Sex','Mono','label']\n",
    "df.head()"
   ]
  },
  {
   "cell_type": "code",
   "execution_count": 14,
   "id": "05d1a652",
   "metadata": {},
   "outputs": [
    {
     "name": "stdout",
     "output_type": "stream",
     "text": [
      "The categorial cols are :  ['Sex']\n",
      "The continuous cols are :  ['MO', 'Neu', 'CD3', 'CD8', 'CD4', 'NK', 'CD19', 'CD45', 'Age', 'Mono']\n",
      "The target variable is :   ['label']\n"
     ]
    }
   ],
   "source": [
    "cat_cols = ['Sex']\n",
    "con_cols = ['MO','Neu','CD3','CD8','CD4','NK','CD19','CD45','Age','Mono']\n",
    "target_col = ['label']\n",
    "print(\"The categorial cols are : \", cat_cols)\n",
    "print(\"The continuous cols are : \", con_cols)\n",
    "print(\"The target variable is :  \", target_col)"
   ]
  },
  {
   "cell_type": "code",
   "execution_count": 15,
   "id": "9f9f033e",
   "metadata": {},
   "outputs": [
    {
     "data": {
      "text/html": [
       "<div>\n",
       "<style scoped>\n",
       "    .dataframe tbody tr th:only-of-type {\n",
       "        vertical-align: middle;\n",
       "    }\n",
       "\n",
       "    .dataframe tbody tr th {\n",
       "        vertical-align: top;\n",
       "    }\n",
       "\n",
       "    .dataframe thead th {\n",
       "        text-align: right;\n",
       "    }\n",
       "</style>\n",
       "<table border=\"1\" class=\"dataframe\">\n",
       "  <thead>\n",
       "    <tr style=\"text-align: right;\">\n",
       "      <th></th>\n",
       "      <th>count</th>\n",
       "      <th>mean</th>\n",
       "      <th>std</th>\n",
       "      <th>min</th>\n",
       "      <th>25%</th>\n",
       "      <th>50%</th>\n",
       "      <th>75%</th>\n",
       "      <th>max</th>\n",
       "    </tr>\n",
       "  </thead>\n",
       "  <tbody>\n",
       "    <tr>\n",
       "      <th>MO</th>\n",
       "      <td>85.0</td>\n",
       "      <td>1274.823529</td>\n",
       "      <td>763.644304</td>\n",
       "      <td>112.00</td>\n",
       "      <td>693.00</td>\n",
       "      <td>1117.00</td>\n",
       "      <td>1607.00</td>\n",
       "      <td>4145.00</td>\n",
       "    </tr>\n",
       "    <tr>\n",
       "      <th>Neu</th>\n",
       "      <td>85.0</td>\n",
       "      <td>290.882353</td>\n",
       "      <td>493.171283</td>\n",
       "      <td>30.00</td>\n",
       "      <td>77.00</td>\n",
       "      <td>124.00</td>\n",
       "      <td>243.00</td>\n",
       "      <td>3124.00</td>\n",
       "    </tr>\n",
       "    <tr>\n",
       "      <th>CD3</th>\n",
       "      <td>85.0</td>\n",
       "      <td>986.427176</td>\n",
       "      <td>618.976850</td>\n",
       "      <td>74.40</td>\n",
       "      <td>552.16</td>\n",
       "      <td>871.71</td>\n",
       "      <td>1237.55</td>\n",
       "      <td>3791.23</td>\n",
       "    </tr>\n",
       "    <tr>\n",
       "      <th>CD8</th>\n",
       "      <td>85.0</td>\n",
       "      <td>479.622118</td>\n",
       "      <td>345.853188</td>\n",
       "      <td>36.61</td>\n",
       "      <td>240.00</td>\n",
       "      <td>423.27</td>\n",
       "      <td>623.49</td>\n",
       "      <td>2548.10</td>\n",
       "    </tr>\n",
       "    <tr>\n",
       "      <th>CD4</th>\n",
       "      <td>85.0</td>\n",
       "      <td>498.820824</td>\n",
       "      <td>312.586170</td>\n",
       "      <td>39.59</td>\n",
       "      <td>276.28</td>\n",
       "      <td>459.72</td>\n",
       "      <td>625.30</td>\n",
       "      <td>1517.81</td>\n",
       "    </tr>\n",
       "    <tr>\n",
       "      <th>NK</th>\n",
       "      <td>85.0</td>\n",
       "      <td>216.775059</td>\n",
       "      <td>173.495373</td>\n",
       "      <td>0.00</td>\n",
       "      <td>86.41</td>\n",
       "      <td>193.69</td>\n",
       "      <td>266.88</td>\n",
       "      <td>878.04</td>\n",
       "    </tr>\n",
       "    <tr>\n",
       "      <th>CD19</th>\n",
       "      <td>85.0</td>\n",
       "      <td>118.693647</td>\n",
       "      <td>96.761518</td>\n",
       "      <td>4.20</td>\n",
       "      <td>51.94</td>\n",
       "      <td>89.79</td>\n",
       "      <td>155.00</td>\n",
       "      <td>485.86</td>\n",
       "    </tr>\n",
       "    <tr>\n",
       "      <th>CD45</th>\n",
       "      <td>85.0</td>\n",
       "      <td>1332.898941</td>\n",
       "      <td>793.509629</td>\n",
       "      <td>209.25</td>\n",
       "      <td>784.23</td>\n",
       "      <td>1179.27</td>\n",
       "      <td>1619.77</td>\n",
       "      <td>4757.28</td>\n",
       "    </tr>\n",
       "    <tr>\n",
       "      <th>Age</th>\n",
       "      <td>85.0</td>\n",
       "      <td>40.435294</td>\n",
       "      <td>10.373326</td>\n",
       "      <td>19.00</td>\n",
       "      <td>33.00</td>\n",
       "      <td>41.00</td>\n",
       "      <td>50.00</td>\n",
       "      <td>60.00</td>\n",
       "    </tr>\n",
       "    <tr>\n",
       "      <th>Mono</th>\n",
       "      <td>85.0</td>\n",
       "      <td>2080.658824</td>\n",
       "      <td>1198.291716</td>\n",
       "      <td>72.00</td>\n",
       "      <td>1516.00</td>\n",
       "      <td>1759.00</td>\n",
       "      <td>2248.00</td>\n",
       "      <td>7515.00</td>\n",
       "    </tr>\n",
       "  </tbody>\n",
       "</table>\n",
       "</div>"
      ],
      "text/plain": [
       "      count         mean          std     min      25%      50%      75%  \\\n",
       "MO     85.0  1274.823529   763.644304  112.00   693.00  1117.00  1607.00   \n",
       "Neu    85.0   290.882353   493.171283   30.00    77.00   124.00   243.00   \n",
       "CD3    85.0   986.427176   618.976850   74.40   552.16   871.71  1237.55   \n",
       "CD8    85.0   479.622118   345.853188   36.61   240.00   423.27   623.49   \n",
       "CD4    85.0   498.820824   312.586170   39.59   276.28   459.72   625.30   \n",
       "NK     85.0   216.775059   173.495373    0.00    86.41   193.69   266.88   \n",
       "CD19   85.0   118.693647    96.761518    4.20    51.94    89.79   155.00   \n",
       "CD45   85.0  1332.898941   793.509629  209.25   784.23  1179.27  1619.77   \n",
       "Age    85.0    40.435294    10.373326   19.00    33.00    41.00    50.00   \n",
       "Mono   85.0  2080.658824  1198.291716   72.00  1516.00  1759.00  2248.00   \n",
       "\n",
       "          max  \n",
       "MO    4145.00  \n",
       "Neu   3124.00  \n",
       "CD3   3791.23  \n",
       "CD8   2548.10  \n",
       "CD4   1517.81  \n",
       "NK     878.04  \n",
       "CD19   485.86  \n",
       "CD45  4757.28  \n",
       "Age     60.00  \n",
       "Mono  7515.00  "
      ]
     },
     "execution_count": 15,
     "metadata": {},
     "output_type": "execute_result"
    }
   ],
   "source": [
    "df[con_cols].describe().transpose()"
   ]
  },
  {
   "cell_type": "code",
   "execution_count": 16,
   "id": "e7a200b9",
   "metadata": {},
   "outputs": [
    {
     "data": {
      "text/html": [
       "<div>\n",
       "<style scoped>\n",
       "    .dataframe tbody tr th:only-of-type {\n",
       "        vertical-align: middle;\n",
       "    }\n",
       "\n",
       "    .dataframe tbody tr th {\n",
       "        vertical-align: top;\n",
       "    }\n",
       "\n",
       "    .dataframe thead th {\n",
       "        text-align: right;\n",
       "    }\n",
       "</style>\n",
       "<table border=\"1\" class=\"dataframe\">\n",
       "  <thead>\n",
       "    <tr style=\"text-align: right;\">\n",
       "      <th></th>\n",
       "      <th>unique count</th>\n",
       "    </tr>\n",
       "  </thead>\n",
       "  <tbody>\n",
       "    <tr>\n",
       "      <th>MO</th>\n",
       "      <td>84</td>\n",
       "    </tr>\n",
       "    <tr>\n",
       "      <th>Neu</th>\n",
       "      <td>71</td>\n",
       "    </tr>\n",
       "    <tr>\n",
       "      <th>CD3</th>\n",
       "      <td>84</td>\n",
       "    </tr>\n",
       "    <tr>\n",
       "      <th>CD8</th>\n",
       "      <td>84</td>\n",
       "    </tr>\n",
       "    <tr>\n",
       "      <th>CD4</th>\n",
       "      <td>84</td>\n",
       "    </tr>\n",
       "    <tr>\n",
       "      <th>NK</th>\n",
       "      <td>84</td>\n",
       "    </tr>\n",
       "    <tr>\n",
       "      <th>CD19</th>\n",
       "      <td>85</td>\n",
       "    </tr>\n",
       "    <tr>\n",
       "      <th>CD45</th>\n",
       "      <td>84</td>\n",
       "    </tr>\n",
       "    <tr>\n",
       "      <th>Age</th>\n",
       "      <td>34</td>\n",
       "    </tr>\n",
       "    <tr>\n",
       "      <th>Sex</th>\n",
       "      <td>2</td>\n",
       "    </tr>\n",
       "    <tr>\n",
       "      <th>Mono</th>\n",
       "      <td>83</td>\n",
       "    </tr>\n",
       "    <tr>\n",
       "      <th>label</th>\n",
       "      <td>2</td>\n",
       "    </tr>\n",
       "  </tbody>\n",
       "</table>\n",
       "</div>"
      ],
      "text/plain": [
       "       unique count\n",
       "MO               84\n",
       "Neu              71\n",
       "CD3              84\n",
       "CD8              84\n",
       "CD4              84\n",
       "NK               84\n",
       "CD19             85\n",
       "CD45             84\n",
       "Age              34\n",
       "Sex               2\n",
       "Mono             83\n",
       "label             2"
      ]
     },
     "execution_count": 16,
     "metadata": {},
     "output_type": "execute_result"
    }
   ],
   "source": [
    "dic = {}\n",
    "for i in list(df.columns):\n",
    "    dic[i] = df[i].value_counts().shape[0]\n",
    "\n",
    "pd.DataFrame(dic,index=[\"unique count\"]).transpose()"
   ]
  },
  {
   "cell_type": "code",
   "execution_count": 17,
   "id": "d2a65abb",
   "metadata": {},
   "outputs": [
    {
     "data": {
      "text/plain": [
       "MO       0\n",
       "Neu      0\n",
       "CD3      0\n",
       "CD8      0\n",
       "CD4      0\n",
       "NK       0\n",
       "CD19     0\n",
       "CD45     0\n",
       "Age      0\n",
       "Sex      0\n",
       "Mono     0\n",
       "label    0\n",
       "dtype: int64"
      ]
     },
     "execution_count": 17,
     "metadata": {},
     "output_type": "execute_result"
    }
   ],
   "source": [
    "df.isnull().sum()"
   ]
  },
  {
   "cell_type": "code",
   "execution_count": 19,
   "id": "9408d761",
   "metadata": {
    "scrolled": true
   },
   "outputs": [
    {
     "data": {
      "text/plain": [
       "<AxesSubplot:>"
      ]
     },
     "execution_count": 19,
     "metadata": {},
     "output_type": "execute_result"
    },
    {
     "data": {
      "image/png": "[encoded data removed]",
      "text/plain": [
       "<Figure size 1080x720 with 2 Axes>"
      ]
     },
     "metadata": {
      "needs_background": "light"
     },
     "output_type": "display_data"
    }
   ],
   "source": [
    "# Correlation\n",
    "plt.figure(figsize=(15,10))\n",
    "sns.heatmap(df.corr(),annot=True,cmap='coolwarm')"
   ]
  },
  {
   "cell_type": "markdown",
   "id": "df84a9ed",
   "metadata": {},
   "source": [
    "## Train Model"
   ]
  },
  {
   "cell_type": "code",
   "execution_count": 20,
   "id": "8374a3a3",
   "metadata": {
    "scrolled": true
   },
   "outputs": [
    {
     "name": "stdout",
     "output_type": "stream",
     "text": [
      "The first 5 rows of X are\n"
     ]
    },
    {
     "data": {
      "text/html": [
       "<div>\n",
       "<style scoped>\n",
       "    .dataframe tbody tr th:only-of-type {\n",
       "        vertical-align: middle;\n",
       "    }\n",
       "\n",
       "    .dataframe tbody tr th {\n",
       "        vertical-align: top;\n",
       "    }\n",
       "\n",
       "    .dataframe thead th {\n",
       "        text-align: right;\n",
       "    }\n",
       "</style>\n",
       "<table border=\"1\" class=\"dataframe\">\n",
       "  <thead>\n",
       "    <tr style=\"text-align: right;\">\n",
       "      <th></th>\n",
       "      <th>MO</th>\n",
       "      <th>Neu</th>\n",
       "      <th>CD3</th>\n",
       "      <th>CD8</th>\n",
       "      <th>CD4</th>\n",
       "      <th>NK</th>\n",
       "      <th>CD19</th>\n",
       "      <th>CD45</th>\n",
       "      <th>Age</th>\n",
       "      <th>Mono</th>\n",
       "      <th>Sex_1</th>\n",
       "    </tr>\n",
       "  </thead>\n",
       "  <tbody>\n",
       "    <tr>\n",
       "      <th>0</th>\n",
       "      <td>2.668490</td>\n",
       "      <td>14.246988</td>\n",
       "      <td>-0.884927</td>\n",
       "      <td>-0.901562</td>\n",
       "      <td>-0.811329</td>\n",
       "      <td>-1.073253</td>\n",
       "      <td>-0.830487</td>\n",
       "      <td>-1.042870</td>\n",
       "      <td>0.647059</td>\n",
       "      <td>7.863388</td>\n",
       "      <td>0</td>\n",
       "    </tr>\n",
       "    <tr>\n",
       "      <th>1</th>\n",
       "      <td>0.863239</td>\n",
       "      <td>0.060241</td>\n",
       "      <td>0.832956</td>\n",
       "      <td>0.335419</td>\n",
       "      <td>1.192912</td>\n",
       "      <td>-0.452097</td>\n",
       "      <td>0.760334</td>\n",
       "      <td>0.665689</td>\n",
       "      <td>-1.235294</td>\n",
       "      <td>-0.004098</td>\n",
       "      <td>1</td>\n",
       "    </tr>\n",
       "    <tr>\n",
       "      <th>2</th>\n",
       "      <td>0.513129</td>\n",
       "      <td>-0.319277</td>\n",
       "      <td>0.672654</td>\n",
       "      <td>0.680409</td>\n",
       "      <td>0.560254</td>\n",
       "      <td>0.284036</td>\n",
       "      <td>1.229672</td>\n",
       "      <td>0.766893</td>\n",
       "      <td>-0.764706</td>\n",
       "      <td>-0.612022</td>\n",
       "      <td>1</td>\n",
       "    </tr>\n",
       "    <tr>\n",
       "      <th>3</th>\n",
       "      <td>-0.474836</td>\n",
       "      <td>-0.180723</td>\n",
       "      <td>-0.660179</td>\n",
       "      <td>-0.436700</td>\n",
       "      <td>-0.852530</td>\n",
       "      <td>-0.674018</td>\n",
       "      <td>-0.437706</td>\n",
       "      <td>-0.767228</td>\n",
       "      <td>0.823529</td>\n",
       "      <td>-0.431694</td>\n",
       "      <td>1</td>\n",
       "    </tr>\n",
       "    <tr>\n",
       "      <th>4</th>\n",
       "      <td>-0.092998</td>\n",
       "      <td>-0.319277</td>\n",
       "      <td>0.337049</td>\n",
       "      <td>0.148635</td>\n",
       "      <td>0.474414</td>\n",
       "      <td>-0.027207</td>\n",
       "      <td>0.397632</td>\n",
       "      <td>0.297652</td>\n",
       "      <td>-0.764706</td>\n",
       "      <td>-0.296448</td>\n",
       "      <td>1</td>\n",
       "    </tr>\n",
       "  </tbody>\n",
       "</table>\n",
       "</div>"
      ],
      "text/plain": [
       "         MO        Neu       CD3       CD8       CD4        NK      CD19  \\\n",
       "0  2.668490  14.246988 -0.884927 -0.901562 -0.811329 -1.073253 -0.830487   \n",
       "1  0.863239   0.060241  0.832956  0.335419  1.192912 -0.452097  0.760334   \n",
       "2  0.513129  -0.319277  0.672654  0.680409  0.560254  0.284036  1.229672   \n",
       "3 -0.474836  -0.180723 -0.660179 -0.436700 -0.852530 -0.674018 -0.437706   \n",
       "4 -0.092998  -0.319277  0.337049  0.148635  0.474414 -0.027207  0.397632   \n",
       "\n",
       "       CD45       Age      Mono  Sex_1  \n",
       "0 -1.042870  0.647059  7.863388      0  \n",
       "1  0.665689 -1.235294 -0.004098      1  \n",
       "2  0.766893 -0.764706 -0.612022      1  \n",
       "3 -0.767228  0.823529 -0.431694      1  \n",
       "4  0.297652 -0.764706 -0.296448      1  "
      ]
     },
     "execution_count": 20,
     "metadata": {},
     "output_type": "execute_result"
    }
   ],
   "source": [
    "from sklearn.preprocessing import RobustScaler\n",
    "# creating a copy of df\n",
    "df1 = df\n",
    "\n",
    "# define the columns to be encoded and scaled\n",
    "cat_cols = ['Sex']\n",
    "con_cols = ['MO','Neu','CD3','CD8','CD4','NK','CD19','CD45','Age','Mono']\n",
    "\n",
    "# encoding the categorical columns\n",
    "df1 = pd.get_dummies(df1, columns = cat_cols, drop_first = True)\n",
    "\n",
    "# defining the features and target\n",
    "X = df1.drop(['label'],axis=1)\n",
    "y = df1[['label']]\n",
    "\n",
    "# instantiating the scaler\n",
    "scaler = RobustScaler()\n",
    "\n",
    "# scaling the continuous featuree\n",
    "X[con_cols] = scaler.fit_transform(X[con_cols])\n",
    "print(\"The first 5 rows of X are\")\n",
    "X.head()"
   ]
  },
  {
   "cell_type": "code",
   "execution_count": 22,
   "id": "0ccde249",
   "metadata": {},
   "outputs": [
    {
     "name": "stdout",
     "output_type": "stream",
     "text": [
      "The shape of X_train is    (68, 11)\n",
      "The shape of X_test is     (17, 11)\n",
      "The shape of y_train is    (68, 1)\n",
      "The shape of y_test is     (17, 1)\n"
     ]
    }
   ],
   "source": [
    "from sklearn.model_selection import train_test_split\n",
    "X_train, X_test, y_train, y_test = train_test_split(X,y, test_size = 0.2, random_state = 42)\n",
    "print(\"The shape of X_train is   \", X_train.shape)\n",
    "print(\"The shape of X_test is    \",X_test.shape)\n",
    "print(\"The shape of y_train is   \",y_train.shape)\n",
    "print(\"The shape of y_test is    \",y_test.shape)"
   ]
  },
  {
   "cell_type": "markdown",
   "id": "98deb91a",
   "metadata": {},
   "source": [
    "## Choose Model"
   ]
  },
  {
   "cell_type": "code",
   "execution_count": 83,
   "id": "75259df7",
   "metadata": {},
   "outputs": [],
   "source": [
    "key = ['LogisticRegression','KNeighborsClassifier','SVC',\n",
    "       'DecisionTreeClassifier','RandomForestClassifier',\n",
    "       'GradientBoostingClassifier','AdaBoostClassifier',\n",
    "       'XGBClassifier']\n",
    "value = [LogisticRegression(),KNeighborsClassifier(),SVC(),\n",
    "         DecisionTreeClassifier(),RandomForestClassifier(),\n",
    "         GradientBoostingClassifier(),AdaBoostClassifier(),\n",
    "         XGBClassifier()]\n",
    "models = dict(zip(key,value))"
   ]
  },
  {
   "cell_type": "code",
   "execution_count": 84,
   "id": "85aebb88",
   "metadata": {},
   "outputs": [
    {
     "name": "stdout",
     "output_type": "stream",
     "text": [
      "LogisticRegression 0.9411764705882353\n",
      "KNeighborsClassifier 0.8823529411764706\n",
      "SVC 0.7647058823529411\n",
      "DecisionTreeClassifier 0.7058823529411765\n",
      "RandomForestClassifier 0.9411764705882353\n",
      "GradientBoostingClassifier 0.8823529411764706\n",
      "AdaBoostClassifier 0.8823529411764706\n",
      "XGBClassifier 0.8823529411764706\n"
     ]
    }
   ],
   "source": [
    "predicted =[]\n",
    "for name,algo in models.items():\n",
    "    model=algo\n",
    "    model.fit(X_train,y_train)\n",
    "    predict = model.predict(X_test)\n",
    "    acc = accuracy_score(y_test, predict)\n",
    "    predicted.append(acc)\n",
    "    print(name,acc)"
   ]
  },
  {
   "cell_type": "code",
   "execution_count": 85,
   "id": "3eb6d1bc",
   "metadata": {
    "scrolled": false
   },
   "outputs": [
    {
     "data": {
      "text/plain": [
       "<AxesSubplot:>"
      ]
     },
     "execution_count": 85,
     "metadata": {},
     "output_type": "execute_result"
    },
    {
     "data": {
      "image/png": "[encoded data removed]",
      "text/plain": [
       "<Figure size 720x360 with 1 Axes>"
      ]
     },
     "metadata": {
      "needs_background": "light"
     },
     "output_type": "display_data"
    }
   ],
   "source": [
    "plt.figure(figsize = (10,5))\n",
    "sns.barplot(x = predicted, y = key)"
   ]
  },
  {
   "cell_type": "markdown",
   "id": "6583d470",
   "metadata": {},
   "source": [
    "## Train"
   ]
  },
  {
   "cell_type": "code",
   "execution_count": 67,
   "id": "591ae6be",
   "metadata": {
    "scrolled": true
   },
   "outputs": [
    {
     "name": "stdout",
     "output_type": "stream",
     "text": [
      "The test accuracy score of SVM is  0.9411764705882353\n"
     ]
    }
   ],
   "source": [
    "clf = SVC(kernel='linear', C=1, random_state=42).fit(X_train,y_train)\n",
    "y_pred = clf.predict(X_test)\n",
    "print(\"The test accuracy score of SVM is \", accuracy_score(y_test, y_pred))"
   ]
  },
  {
   "cell_type": "code",
   "execution_count": 69,
   "id": "9ad5f580",
   "metadata": {},
   "outputs": [
    {
     "name": "stdout",
     "output_type": "stream",
     "text": [
      "The best params are : {'C': 2, 'gamma': 0.1}\n",
      "The best score is   : 0.8978021978021978\n",
      "The test accuracy score of SVM after hyper-parameter tuning is  0.8235294117647058\n"
     ]
    }
   ],
   "source": [
    "svm = SVC()\n",
    "\n",
    "# setting a grid\n",
    "parameters = {\"C\":np.arange(1,10,1),'gamma':[0.00001,0.00005, \n",
    "                                             0.0001,0.0005,\n",
    "                                             0.001,0.005,0.01,\n",
    "                                             0.05,0.1,0.5,1,5]}\n",
    "\n",
    "# instantiating the GridSearchCV object\n",
    "searcher = GridSearchCV(svm, parameters)\n",
    "\n",
    "# fitting\n",
    "searcher.fit(X_train, y_train)\n",
    "print(\"The best params are :\", searcher.best_params_)\n",
    "print(\"The best score is   :\", searcher.best_score_)\n",
    "\n",
    "# predicting\n",
    "y_pred = searcher.predict(X_test)\n",
    "print(\"The test accuracy score of SVM after hyper-parameter tuning is \", accuracy_score(y_test, y_pred))"
   ]
  },
  {
   "cell_type": "code",
   "execution_count": 70,
   "id": "5a67d779",
   "metadata": {},
   "outputs": [
    {
     "name": "stdout",
     "output_type": "stream",
     "text": [
      "The test accuracy score of Logistric Regression is  0.9411764705882353\n"
     ]
    }
   ],
   "source": [
    "logreg = LogisticRegression()\n",
    "\n",
    "# fitting \n",
    "logreg.fit(X_train, y_train)\n",
    "# calculating the probabilities\n",
    "y_pred_proba = logreg.predict_proba(X_test)\n",
    "\n",
    "# finding the predicted valued\n",
    "y_pred = np.argmax(y_pred_proba,axis=1)\n",
    "print(\"The test accuracy score of Logistric Regression is \", accuracy_score(y_test, y_pred))"
   ]
  },
  {
   "cell_type": "code",
   "execution_count": 72,
   "id": "40933b8e",
   "metadata": {},
   "outputs": [
    {
     "name": "stdout",
     "output_type": "stream",
     "text": [
      "The test accuracy score of Random Forest is  0.7647058823529411\n"
     ]
    }
   ],
   "source": [
    "rf = RandomForestClassifier()\n",
    "\n",
    "# fitting \n",
    "rf.fit(X_train, y_train)\n",
    "\n",
    "# calculating the predictions\n",
    "y_pred = dt.predict(X_test)\n",
    "print(\"The test accuracy score of Random Forest is \", accuracy_score(y_test, y_pred))"
   ]
  },
  {
   "cell_type": "code",
   "execution_count": 73,
   "id": "67161ae6",
   "metadata": {},
   "outputs": [
    {
     "name": "stdout",
     "output_type": "stream",
     "text": [
      "The test accuracy score of Gradient Boosting Classifier is  0.8823529411764706\n"
     ]
    }
   ],
   "source": [
    "gbt = GradientBoostingClassifier(n_estimators = 300,max_depth=1,subsample=0.8,max_features=0.2,random_state=42)\n",
    "\n",
    "# fitting\n",
    "gbt.fit(X_train,y_train)\n",
    "\n",
    "# predicting\n",
    "y_pred = gbt.predict(X_test)\n",
    "print(\"The test accuracy score of Gradient Boosting Classifier is \", accuracy_score(y_test, y_pred))"
   ]
  },
  {
   "cell_type": "code",
   "execution_count": 100,
   "id": "7bf6b5fa",
   "metadata": {},
   "outputs": [
    {
     "name": "stdout",
     "output_type": "stream",
     "text": [
      "The test accuracy score of XGB Classifier is  0.8823529411764706\n"
     ]
    }
   ],
   "source": [
    "xgb = XGBClassifier(learning_rate=0.01, n_estimators=25, max_depth=15,gamma=0.6, subsample=0.52,colsample_bytree=0.6,seed=27, \n",
    "                    reg_lambda=2, booster='dart', colsample_bylevel=0.6, colsample_bynode=0.5)\n",
    "\n",
    "# fitting\n",
    "xgb.fit(X_train,y_train)\n",
    "\n",
    "# predicting\n",
    "y_pred = gbt.predict(X_test)\n",
    "print(\"The test accuracy score of XGB Classifier is \", accuracy_score(y_test, y_pred))"
   ]
  },
  {
   "cell_type": "code",
   "execution_count": 101,
   "id": "26dfdf5e",
   "metadata": {},
   "outputs": [
    {
     "data": {
      "image/png": "[encoded data removed]",
      "text/plain": [
       "<Figure size 720x288 with 1 Axes>"
      ]
     },
     "metadata": {
      "needs_background": "light"
     },
     "output_type": "display_data"
    }
   ],
   "source": [
    "imp_feature = pd.DataFrame({'Feature': ['MO','Neu','CD3','CD8','CD4','NK','CD19','CD45',\n",
    "              'Age','Sex','Mono'], 'Importance': xgb.feature_importances_})\n",
    "plt.figure(figsize=(10,4))\n",
    "plt.title(\"barplot Represent feature importance \")\n",
    "plt.xlabel(\"importance \")\n",
    "plt.ylabel(\"features\")\n",
    "plt.barh(imp_feature['Feature'],imp_feature['Importance'])\n",
    "plt.show()"
   ]
  },
  {
   "cell_type": "code",
   "execution_count": 115,
   "id": "4993b49e",
   "metadata": {},
   "outputs": [
    {
     "name": "stdout",
     "output_type": "stream",
     "text": [
      "confussion matrix\n",
      "[[9 0]\n",
      " [1 7]]\n",
      "\n",
      "\n",
      "Accuracy of StackingCVClassifier: 94.11764705882352 \n",
      "\n",
      "              precision    recall  f1-score   support\n",
      "\n",
      "           0       0.90      1.00      0.95         9\n",
      "           1       1.00      0.88      0.93         8\n",
      "\n",
      "    accuracy                           0.94        17\n",
      "   macro avg       0.95      0.94      0.94        17\n",
      "weighted avg       0.95      0.94      0.94        17\n",
      "\n"
     ]
    }
   ],
   "source": [
    "# ensemble\n",
    "scv = StackingCVClassifier(classifiers=[clf,logreg,gbt],\n",
    "                           meta_classifier= svc)\n",
    "scv.fit(X_train,y_train)\n",
    "scv_predicted = scv.predict(X_test)\n",
    "scv_conf_matrix = confusion_matrix(y_test, scv_predicted)\n",
    "scv_acc_score = accuracy_score(y_test, scv_predicted)\n",
    "print(\"confussion matrix\")\n",
    "print(scv_conf_matrix)\n",
    "print(\"\\n\")\n",
    "print(\"Accuracy of StackingCVClassifier:\",scv_acc_score*100,'\\n')\n",
    "print(classification_report(y_test,scv_predicted))"
   ]
  },
  {
   "cell_type": "code",
   "execution_count": null,
   "id": "844668da",
   "metadata": {},
   "outputs": [],
   "source": [
    "# pip install xgboost==0.80"
   ]
  },
  {
   "cell_type": "markdown",
   "id": "ad0a05ce",
   "metadata": {},
   "source": [
    "## Submit"
   ]
  },
  {
   "cell_type": "code",
   "execution_count": 116,
   "id": "ee5ca4c0",
   "metadata": {},
   "outputs": [],
   "source": [
    "test = pd.read_csv('/Users/zhujinghong/Desktop/Project/5001/5001 competition/test.csv')"
   ]
  },
  {
   "cell_type": "code",
   "execution_count": 117,
   "id": "f3097a7e",
   "metadata": {},
   "outputs": [
    {
     "data": {
      "text/html": [
       "<div>\n",
       "<style scoped>\n",
       "    .dataframe tbody tr th:only-of-type {\n",
       "        vertical-align: middle;\n",
       "    }\n",
       "\n",
       "    .dataframe tbody tr th {\n",
       "        vertical-align: top;\n",
       "    }\n",
       "\n",
       "    .dataframe thead th {\n",
       "        text-align: right;\n",
       "    }\n",
       "</style>\n",
       "<table border=\"1\" class=\"dataframe\">\n",
       "  <thead>\n",
       "    <tr style=\"text-align: right;\">\n",
       "      <th></th>\n",
       "      <th>id</th>\n",
       "      <th>MO HLADR+ MFI (cells/ul)</th>\n",
       "      <th>Neu CD64+MFI (cells/ul)</th>\n",
       "      <th>CD3+T (cells/ul)</th>\n",
       "      <th>CD8+T (cells/ul)</th>\n",
       "      <th>CD4+T (cells/ul)</th>\n",
       "      <th>NK (cells/ul)</th>\n",
       "      <th>CD19+ (cells/ul)</th>\n",
       "      <th>CD45+ (cells/ul)</th>\n",
       "      <th>Age</th>\n",
       "      <th>Sex 0M1F</th>\n",
       "      <th>Mono CD64+MFI (cells/ul)</th>\n",
       "    </tr>\n",
       "  </thead>\n",
       "  <tbody>\n",
       "    <tr>\n",
       "      <th>0</th>\n",
       "      <td>0</td>\n",
       "      <td>2843.0</td>\n",
       "      <td>156.0</td>\n",
       "      <td>1358.52</td>\n",
       "      <td>730.78</td>\n",
       "      <td>637.85</td>\n",
       "      <td>127.06</td>\n",
       "      <td>94.82</td>\n",
       "      <td>1588.62</td>\n",
       "      <td>45</td>\n",
       "      <td>1</td>\n",
       "      <td>3256.0</td>\n",
       "    </tr>\n",
       "    <tr>\n",
       "      <th>1</th>\n",
       "      <td>1</td>\n",
       "      <td>437.0</td>\n",
       "      <td>137.0</td>\n",
       "      <td>509.43</td>\n",
       "      <td>268.05</td>\n",
       "      <td>243.07</td>\n",
       "      <td>390.86</td>\n",
       "      <td>98.24</td>\n",
       "      <td>1002.76</td>\n",
       "      <td>51</td>\n",
       "      <td>1</td>\n",
       "      <td>491.0</td>\n",
       "    </tr>\n",
       "    <tr>\n",
       "      <th>2</th>\n",
       "      <td>2</td>\n",
       "      <td>826.0</td>\n",
       "      <td>82.0</td>\n",
       "      <td>1232.22</td>\n",
       "      <td>493.42</td>\n",
       "      <td>744.08</td>\n",
       "      <td>516.28</td>\n",
       "      <td>320.15</td>\n",
       "      <td>2200.58</td>\n",
       "      <td>32</td>\n",
       "      <td>0</td>\n",
       "      <td>1381.0</td>\n",
       "    </tr>\n",
       "    <tr>\n",
       "      <th>3</th>\n",
       "      <td>3</td>\n",
       "      <td>861.0</td>\n",
       "      <td>50.0</td>\n",
       "      <td>1512.86</td>\n",
       "      <td>925.51</td>\n",
       "      <td>590.07</td>\n",
       "      <td>380.25</td>\n",
       "      <td>25.80</td>\n",
       "      <td>1929.10</td>\n",
       "      <td>50</td>\n",
       "      <td>0</td>\n",
       "      <td>1377.0</td>\n",
       "    </tr>\n",
       "    <tr>\n",
       "      <th>4</th>\n",
       "      <td>4</td>\n",
       "      <td>1160.0</td>\n",
       "      <td>157.0</td>\n",
       "      <td>890.42</td>\n",
       "      <td>403.91</td>\n",
       "      <td>489.53</td>\n",
       "      <td>266.92</td>\n",
       "      <td>87.63</td>\n",
       "      <td>1251.52</td>\n",
       "      <td>43</td>\n",
       "      <td>0</td>\n",
       "      <td>1844.0</td>\n",
       "    </tr>\n",
       "  </tbody>\n",
       "</table>\n",
       "</div>"
      ],
      "text/plain": [
       "   id  MO HLADR+ MFI (cells/ul)  Neu CD64+MFI (cells/ul)  CD3+T (cells/ul)  \\\n",
       "0   0                    2843.0                    156.0           1358.52   \n",
       "1   1                     437.0                    137.0            509.43   \n",
       "2   2                     826.0                     82.0           1232.22   \n",
       "3   3                     861.0                     50.0           1512.86   \n",
       "4   4                    1160.0                    157.0            890.42   \n",
       "\n",
       "   CD8+T (cells/ul)  CD4+T (cells/ul)  NK (cells/ul)  CD19+ (cells/ul)  \\\n",
       "0            730.78            637.85         127.06             94.82   \n",
       "1            268.05            243.07         390.86             98.24   \n",
       "2            493.42            744.08         516.28            320.15   \n",
       "3            925.51            590.07         380.25             25.80   \n",
       "4            403.91            489.53         266.92             87.63   \n",
       "\n",
       "   CD45+ (cells/ul)  Age  Sex 0M1F  Mono CD64+MFI (cells/ul)  \n",
       "0           1588.62   45         1                    3256.0  \n",
       "1           1002.76   51         1                     491.0  \n",
       "2           2200.58   32         0                    1381.0  \n",
       "3           1929.10   50         0                    1377.0  \n",
       "4           1251.52   43         0                    1844.0  "
      ]
     },
     "execution_count": 117,
     "metadata": {},
     "output_type": "execute_result"
    }
   ],
   "source": [
    "test.head()"
   ]
  },
  {
   "cell_type": "code",
   "execution_count": 118,
   "id": "5db5af38",
   "metadata": {},
   "outputs": [],
   "source": [
    "test.drop('id',axis=1, inplace=True)"
   ]
  },
  {
   "cell_type": "code",
   "execution_count": 119,
   "id": "a6da736c",
   "metadata": {},
   "outputs": [
    {
     "data": {
      "text/plain": [
       "(59, 11)"
      ]
     },
     "execution_count": 119,
     "metadata": {},
     "output_type": "execute_result"
    }
   ],
   "source": [
    "test.shape"
   ]
  },
  {
   "cell_type": "code",
   "execution_count": 114,
   "id": "4e86f95a",
   "metadata": {
    "scrolled": true
   },
   "outputs": [
    {
     "data": {
      "text/html": [
       "<div>\n",
       "<style scoped>\n",
       "    .dataframe tbody tr th:only-of-type {\n",
       "        vertical-align: middle;\n",
       "    }\n",
       "\n",
       "    .dataframe tbody tr th {\n",
       "        vertical-align: top;\n",
       "    }\n",
       "\n",
       "    .dataframe thead th {\n",
       "        text-align: right;\n",
       "    }\n",
       "</style>\n",
       "<table border=\"1\" class=\"dataframe\">\n",
       "  <thead>\n",
       "    <tr style=\"text-align: right;\">\n",
       "      <th></th>\n",
       "      <th>MO</th>\n",
       "      <th>Neu</th>\n",
       "      <th>CD3</th>\n",
       "      <th>CD8</th>\n",
       "      <th>CD4</th>\n",
       "      <th>NK</th>\n",
       "      <th>CD19</th>\n",
       "      <th>CD45</th>\n",
       "      <th>Age</th>\n",
       "      <th>Mono</th>\n",
       "      <th>Sex_1</th>\n",
       "    </tr>\n",
       "  </thead>\n",
       "  <tbody>\n",
       "    <tr>\n",
       "      <th>0</th>\n",
       "      <td>2.668490</td>\n",
       "      <td>14.246988</td>\n",
       "      <td>-0.884927</td>\n",
       "      <td>-0.901562</td>\n",
       "      <td>-0.811329</td>\n",
       "      <td>-1.073253</td>\n",
       "      <td>-0.830487</td>\n",
       "      <td>-1.042870</td>\n",
       "      <td>0.647059</td>\n",
       "      <td>7.863388</td>\n",
       "      <td>0</td>\n",
       "    </tr>\n",
       "    <tr>\n",
       "      <th>1</th>\n",
       "      <td>0.863239</td>\n",
       "      <td>0.060241</td>\n",
       "      <td>0.832956</td>\n",
       "      <td>0.335419</td>\n",
       "      <td>1.192912</td>\n",
       "      <td>-0.452097</td>\n",
       "      <td>0.760334</td>\n",
       "      <td>0.665689</td>\n",
       "      <td>-1.235294</td>\n",
       "      <td>-0.004098</td>\n",
       "      <td>1</td>\n",
       "    </tr>\n",
       "    <tr>\n",
       "      <th>2</th>\n",
       "      <td>0.513129</td>\n",
       "      <td>-0.319277</td>\n",
       "      <td>0.672654</td>\n",
       "      <td>0.680409</td>\n",
       "      <td>0.560254</td>\n",
       "      <td>0.284036</td>\n",
       "      <td>1.229672</td>\n",
       "      <td>0.766893</td>\n",
       "      <td>-0.764706</td>\n",
       "      <td>-0.612022</td>\n",
       "      <td>1</td>\n",
       "    </tr>\n",
       "    <tr>\n",
       "      <th>3</th>\n",
       "      <td>-0.474836</td>\n",
       "      <td>-0.180723</td>\n",
       "      <td>-0.660179</td>\n",
       "      <td>-0.436700</td>\n",
       "      <td>-0.852530</td>\n",
       "      <td>-0.674018</td>\n",
       "      <td>-0.437706</td>\n",
       "      <td>-0.767228</td>\n",
       "      <td>0.823529</td>\n",
       "      <td>-0.431694</td>\n",
       "      <td>1</td>\n",
       "    </tr>\n",
       "    <tr>\n",
       "      <th>4</th>\n",
       "      <td>-0.092998</td>\n",
       "      <td>-0.319277</td>\n",
       "      <td>0.337049</td>\n",
       "      <td>0.148635</td>\n",
       "      <td>0.474414</td>\n",
       "      <td>-0.027207</td>\n",
       "      <td>0.397632</td>\n",
       "      <td>0.297652</td>\n",
       "      <td>-0.764706</td>\n",
       "      <td>-0.296448</td>\n",
       "      <td>1</td>\n",
       "    </tr>\n",
       "  </tbody>\n",
       "</table>\n",
       "</div>"
      ],
      "text/plain": [
       "         MO        Neu       CD3       CD8       CD4        NK      CD19  \\\n",
       "0  2.668490  14.246988 -0.884927 -0.901562 -0.811329 -1.073253 -0.830487   \n",
       "1  0.863239   0.060241  0.832956  0.335419  1.192912 -0.452097  0.760334   \n",
       "2  0.513129  -0.319277  0.672654  0.680409  0.560254  0.284036  1.229672   \n",
       "3 -0.474836  -0.180723 -0.660179 -0.436700 -0.852530 -0.674018 -0.437706   \n",
       "4 -0.092998  -0.319277  0.337049  0.148635  0.474414 -0.027207  0.397632   \n",
       "\n",
       "       CD45       Age      Mono  Sex_1  \n",
       "0 -1.042870  0.647059  7.863388      0  \n",
       "1  0.665689 -1.235294 -0.004098      1  \n",
       "2  0.766893 -0.764706 -0.612022      1  \n",
       "3 -0.767228  0.823529 -0.431694      1  \n",
       "4  0.297652 -0.764706 -0.296448      1  "
      ]
     },
     "execution_count": 114,
     "metadata": {},
     "output_type": "execute_result"
    }
   ],
   "source": [
    "X.head()"
   ]
  },
  {
   "cell_type": "code",
   "execution_count": 123,
   "id": "ba1eb222",
   "metadata": {
    "scrolled": true
   },
   "outputs": [
    {
     "data": {
      "text/html": [
       "<div>\n",
       "<style scoped>\n",
       "    .dataframe tbody tr th:only-of-type {\n",
       "        vertical-align: middle;\n",
       "    }\n",
       "\n",
       "    .dataframe tbody tr th {\n",
       "        vertical-align: top;\n",
       "    }\n",
       "\n",
       "    .dataframe thead th {\n",
       "        text-align: right;\n",
       "    }\n",
       "</style>\n",
       "<table border=\"1\" class=\"dataframe\">\n",
       "  <thead>\n",
       "    <tr style=\"text-align: right;\">\n",
       "      <th></th>\n",
       "      <th>MO</th>\n",
       "      <th>Neu</th>\n",
       "      <th>CD3</th>\n",
       "      <th>CD8</th>\n",
       "      <th>CD4</th>\n",
       "      <th>NK</th>\n",
       "      <th>CD19</th>\n",
       "      <th>CD45</th>\n",
       "      <th>Age</th>\n",
       "      <th>Sex_1</th>\n",
       "      <th>Mono</th>\n",
       "    </tr>\n",
       "  </thead>\n",
       "  <tbody>\n",
       "    <tr>\n",
       "      <th>0</th>\n",
       "      <td>2843.0</td>\n",
       "      <td>156.0</td>\n",
       "      <td>1358.52</td>\n",
       "      <td>730.78</td>\n",
       "      <td>637.85</td>\n",
       "      <td>127.06</td>\n",
       "      <td>94.82</td>\n",
       "      <td>1588.62</td>\n",
       "      <td>45</td>\n",
       "      <td>1</td>\n",
       "      <td>3256.0</td>\n",
       "    </tr>\n",
       "    <tr>\n",
       "      <th>1</th>\n",
       "      <td>437.0</td>\n",
       "      <td>137.0</td>\n",
       "      <td>509.43</td>\n",
       "      <td>268.05</td>\n",
       "      <td>243.07</td>\n",
       "      <td>390.86</td>\n",
       "      <td>98.24</td>\n",
       "      <td>1002.76</td>\n",
       "      <td>51</td>\n",
       "      <td>1</td>\n",
       "      <td>491.0</td>\n",
       "    </tr>\n",
       "    <tr>\n",
       "      <th>2</th>\n",
       "      <td>826.0</td>\n",
       "      <td>82.0</td>\n",
       "      <td>1232.22</td>\n",
       "      <td>493.42</td>\n",
       "      <td>744.08</td>\n",
       "      <td>516.28</td>\n",
       "      <td>320.15</td>\n",
       "      <td>2200.58</td>\n",
       "      <td>32</td>\n",
       "      <td>0</td>\n",
       "      <td>1381.0</td>\n",
       "    </tr>\n",
       "    <tr>\n",
       "      <th>3</th>\n",
       "      <td>861.0</td>\n",
       "      <td>50.0</td>\n",
       "      <td>1512.86</td>\n",
       "      <td>925.51</td>\n",
       "      <td>590.07</td>\n",
       "      <td>380.25</td>\n",
       "      <td>25.80</td>\n",
       "      <td>1929.10</td>\n",
       "      <td>50</td>\n",
       "      <td>0</td>\n",
       "      <td>1377.0</td>\n",
       "    </tr>\n",
       "    <tr>\n",
       "      <th>4</th>\n",
       "      <td>1160.0</td>\n",
       "      <td>157.0</td>\n",
       "      <td>890.42</td>\n",
       "      <td>403.91</td>\n",
       "      <td>489.53</td>\n",
       "      <td>266.92</td>\n",
       "      <td>87.63</td>\n",
       "      <td>1251.52</td>\n",
       "      <td>43</td>\n",
       "      <td>0</td>\n",
       "      <td>1844.0</td>\n",
       "    </tr>\n",
       "  </tbody>\n",
       "</table>\n",
       "</div>"
      ],
      "text/plain": [
       "       MO    Neu      CD3     CD8     CD4      NK    CD19     CD45  Age  \\\n",
       "0  2843.0  156.0  1358.52  730.78  637.85  127.06   94.82  1588.62   45   \n",
       "1   437.0  137.0   509.43  268.05  243.07  390.86   98.24  1002.76   51   \n",
       "2   826.0   82.0  1232.22  493.42  744.08  516.28  320.15  2200.58   32   \n",
       "3   861.0   50.0  1512.86  925.51  590.07  380.25   25.80  1929.10   50   \n",
       "4  1160.0  157.0   890.42  403.91  489.53  266.92   87.63  1251.52   43   \n",
       "\n",
       "   Sex_1    Mono  \n",
       "0      1  3256.0  \n",
       "1      1   491.0  \n",
       "2      0  1381.0  \n",
       "3      0  1377.0  \n",
       "4      0  1844.0  "
      ]
     },
     "execution_count": 123,
     "metadata": {},
     "output_type": "execute_result"
    }
   ],
   "source": [
    "test.columns = ['MO','Neu','CD3','CD8','CD4','NK','CD19','CD45',\n",
    "              'Age','Sex_1','Mono']\n",
    "test.head()"
   ]
  },
  {
   "cell_type": "code",
   "execution_count": 124,
   "id": "232b7a3f",
   "metadata": {
    "scrolled": true
   },
   "outputs": [],
   "source": [
    "model_predicted = scv.predict(test)"
   ]
  },
  {
   "cell_type": "code",
   "execution_count": 125,
   "id": "6319684f",
   "metadata": {},
   "outputs": [],
   "source": [
    "from pandas import DataFrame\n",
    "submit = DataFrame(model_predicted)\n",
    "submit.to_csv('submit.csv')"
   ]
  }
 ],
 "metadata": {
  "kernelspec": {
   "display_name": "Python 3 (ipykernel)",
   "language": "python",
   "name": "python3"
  },
  "language_info": {
   "codemirror_mode": {
    "name": "ipython",
    "version": 3
   },
   "file_extension": ".py",
   "mimetype": "text/x-python",
   "name": "python",
   "nbconvert_exporter": "python",
   "pygments_lexer": "ipython3",
   "version": "3.8.5"
  }
 },
 "nbformat": 4,
 "nbformat_minor": 5
}
